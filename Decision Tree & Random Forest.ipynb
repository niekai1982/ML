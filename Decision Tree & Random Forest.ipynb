{
 "cells": [
  {
   "cell_type": "markdown",
   "metadata": {},
   "source": [
    "## Decision Tree\n",
    "--- \n",
    "\n",
    "### Purity\n",
    "- **Target:** get pure subset\n",
    "- Can tell us not only prediction but also confidence on prediction \n",
    "\n",
    "### Algorithm\n",
    "\n",
    "- **Split(node,{examples}):**\n",
    "    1. A <- the best attribute for splitting the {examples}\n",
    "    2. Decision attribute for this node <- A\n",
    "    3. For each value of A, create new child node\n",
    "    4. Spliting training {examples} to child nodes\n",
    "    5. For each child node/subset:<br>\n",
    "        if subset is pure: STOP<br>\n",
    "        else:Split(child_node,{subset})\n",
    "- **Ross Quinlan(ID3:1986),(C4.5:1993)**\n",
    "- **Breimanetal(CaRT:1984) from statistics**"
   ]
  },
  {
   "cell_type": "markdown",
   "metadata": {},
   "source": [
    "<div class=\"alert alert-block alert-warning\">\n",
    "<b>Which attribute to split on?</b>\n",
    "</div>\n",
    "\n",
    "- Want to measure \"purity\" of the split\n",
    "    - more certain after about Yes/No after the split\n",
    "        - pure set(__<font color='red'>4 yes</font>__ / __<font color='blue'>0 no</font>__)=>completely certain(100%)\n",
    "        - inpure(__<font color='red'>3 yes</font> / <font color='red'>3 no</font>__)=>completely uncertain(50%)\n",
    "    - can't use __P(\"yes\"|set)__:\n",
    "        - must be symmetric: 4 yes / 0 no as pure as 0 yes / 4 no\n",
    "\n",
    "<div class=\"alert alert-block alert-info\">\n",
    "<b>Entropy</b>\n",
    "</div>\n",
    "\n",
    "> A way to measure uncertainty of the class in a subset of examples\n",
    "\n",
    "$$H(s) = -p_{(+)}log_2{p_{(+)}} - p_{(-)}log_2{p_{(-)}}$$\n",
    "- Interpretation: assume item X belongs to S\n",
    "    - how many bits need to tell if X positive or negtive\n",
    "- impure(3 yes / 3 no)\n",
    "    \n",
    "    $H(s) = - \\sub{3,5}$\n",
    "\n",
    "<div class=\"alert alert-block alert-danger\">\n",
    "<b>Information Gain</b>\n",
    "</div>\n",
    "\n",
    "> ID3\n",
    "\n",
    "- Want many iterms in pure sets\n",
    "- Expected drop in entropy after split (**<font color='red'>Expected Entropy,EH</font>**)\n",
    "$$Gain(S,A)=H(S) - \\sum_{V}$$\n",
    "- Mutual Information\n",
    "    - between attribute A and class labels of S\n",
    "\n",
    "<div class=\"alert alert-block alert-danger\">\n",
    "<b>Information gain ratio</b>\n",
    "</div>\n",
    "\n",
    "> ID4.5\n",
    "\n",
    "\n",
    "<div class=\"alert alert-block alert-danger\">\n",
    "<b>Gini Index</b>\n",
    "</div>\n",
    "\n",
    "> CART, Classification and Regression Trees\n",
    "\n",
    "$$Gini(A)=1-\\sum_{i=1}^{C}p_i^2$$\n",
    "$$Gini_{split} = \\sum{{N_i \\over N} Gini(T_i)}$$\n"
   ]
  },
  {
   "cell_type": "markdown",
   "metadata": {},
   "source": [
    "### Gini\n",
    "\n",
    "#### Defination of Gini Index\n",
    "$$Gini(p)=\\sum_{k=1}^{K}{p_k(1-p_k)}=1-\\sum_{k=1}^{K}p_k^2$$\n",
    "\n",
    "#### Gini Index of Sample Set D\n",
    "$$Gini(D)=1-\\sum_{k=1}^{K}{\\big({|C_k|\\over|D|}\\big)^2}$$\n",
    "\n",
    "#### Gain Gini\n",
    "$$Gain\\_Gini(D,A)={|D_1|\\over|D|}Gini(D_1)+{|D_2|\\over|D|}Gini(D_2)$$\n",
    "\n",
    "#### Split Attribute\n",
    "$$\\min_{i \\in A}(Gain_Gini(D,A))$$\n",
    "\n",
    "#### Split Point\n",
    "$$\\min_{A \\in Attribute}(\\min_{i \\in A}(Gain\\_Gini(D,A_i))$$"
   ]
  },
  {
   "cell_type": "markdown",
   "metadata": {},
   "source": [
    " ### <font color='red'>How to deal with continuous attributes? </font>"
   ]
  },
  {
   "cell_type": "markdown",
   "metadata": {},
   "source": [
    "### CART\n",
    "#### CART methodology\n",
    "- Binary Split\n",
    "- Split Based on One Variable\n",
    "- Estimation the misclassification rate\n",
    "- Pruning procedure\n",
    "#### Tree growing procedure\n",
    "- Splitting strategy\n",
    "- Continuous or numerial variable\n",
    "\n",
    "#### Pipline\n",
    "\n",
    "- 选择最优切分变量j与切分点s\n",
    "- 用选用的（j，s）对，划分区域并决定相应的输出值\n",
    "- 继续对两个子区域调用上述步骤，将输入空间分为M个区域R1，R2，...,Rm，生成决策树。\n",
    "- 当输入空间划分确定时，用平方误差来表示回归树对训练数据的预测方法，用平方误差最小的准则求解每个单元的最优输出值。\n",
    "\n",
    "#### Pruning procedure\n",
    "> <font color='red'><b>分为两部分，分别是生成子树序列和交叉验证</b></font>\n",
    "\n",
    "$$C_\\alpha(T)=C(T)+\\alpha(T)$$\n",
    "\n",
    "- T 为任意树，|T|为树T的叶节点个数\n",
    "- $\\alpha$是参数，权衡拟合程度与树的复杂度\n",
    "- C|T|为预测误差，可以是平方误差也可以是基尼指数，C|T|衡量训练数据的拟合程度"
   ]
  },
  {
   "cell_type": "markdown",
   "metadata": {},
   "source": [
    "### Guassian information gain to decide splits"
   ]
  },
  {
   "cell_type": "markdown",
   "metadata": {},
   "source": [
    "### Overfitting"
   ]
  },
  {
   "cell_type": "markdown",
   "metadata": {},
   "source": [
    "### Pros and Cons\n",
    "\n",
    "- Cons\n",
    "    - only axis-aligned splits of data\n",
    "    - greedy(may not find best tree"
   ]
  },
  {
   "cell_type": "markdown",
   "metadata": {},
   "source": [
    "### Summary"
   ]
  },
  {
   "cell_type": "markdown",
   "metadata": {},
   "source": [
    "### Realize with Sklearn"
   ]
  },
  {
   "cell_type": "code",
   "execution_count": 1,
   "metadata": {
    "scrolled": true
   },
   "outputs": [],
   "source": [
    "import sklearn\n",
    "\n",
    "from sklearn.datasets import load_iris\n",
    "\n",
    "import pandas as pd\n",
    "\n",
    "import graphviz\n",
    "\n",
    "from sklearn import tree"
   ]
  },
  {
   "cell_type": "code",
   "execution_count": 5,
   "metadata": {},
   "outputs": [],
   "source": [
    "iris = load_iris()"
   ]
  },
  {
   "cell_type": "code",
   "execution_count": 6,
   "metadata": {},
   "outputs": [],
   "source": [
    "X = iris.data\n",
    "y = iris.target\n",
    "\n",
    "clf = tree.DecisionTreeClassifier()"
   ]
  },
  {
   "cell_type": "code",
   "execution_count": 7,
   "metadata": {},
   "outputs": [],
   "source": [
    "clf = clf.fit(X,y)"
   ]
  },
  {
   "cell_type": "code",
   "execution_count": 16,
   "metadata": {},
   "outputs": [
    {
     "data": {
      "text/plain": [
       "'Source.gv.pdf'"
      ]
     },
     "execution_count": 16,
     "metadata": {},
     "output_type": "execute_result"
    }
   ],
   "source": [
    "dot_data = tree.export_graphviz(clf, out_file=None, feature_names=iris.feature_names, class_names=iris.target_names,\n",
    "                               filled=True, rounded=True, special_characters=True)\n",
    "graph = graphviz.Source(dot_data)\n",
    "graph.view()"
   ]
  },
  {
   "cell_type": "code",
   "execution_count": null,
   "metadata": {},
   "outputs": [],
   "source": []
  }
 ],
 "metadata": {
  "kernelspec": {
   "display_name": "Python 2",
   "language": "python",
   "name": "python2"
  },
  "language_info": {
   "codemirror_mode": {
    "name": "ipython",
    "version": 2
   },
   "file_extension": ".py",
   "mimetype": "text/x-python",
   "name": "python",
   "nbconvert_exporter": "python",
   "pygments_lexer": "ipython2",
   "version": "2.7.12"
  }
 },
 "nbformat": 4,
 "nbformat_minor": 2
}
