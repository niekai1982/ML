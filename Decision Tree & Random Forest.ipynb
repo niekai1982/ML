{
 "cells": [
  {
   "cell_type": "markdown",
   "metadata": {},
   "source": [
    "### Decision Tree\n",
    "--- \n",
    "\n",
    "#### Purity\n",
    "- **Target:** get pure subset\n",
    "- Can tell us not only prediction but also confidence on prediction \n",
    "\n",
    "#### ID3 algorithm\n",
    "- Split(node,{examples}):\n",
    "    1. A <- the best attribute for splitting the {examples}\n",
    "    2. Decision attribute for this node <- A\n",
    "    3. For each value of A, create new child node\n",
    "    4. Spliting training {examples} to child nodes\n",
    "    5. For each child node/subset:\n",
    "        \n",
    "        if subset is pure: STOP\n",
    "        \n",
    "        else:Split(child_node,{subset})"
   ]
  },
  {
   "cell_type": "code",
   "execution_count": null,
   "metadata": {},
   "outputs": [],
   "source": []
  }
 ],
 "metadata": {
  "kernelspec": {
   "display_name": "Python 2",
   "language": "python",
   "name": "python2"
  },
  "language_info": {
   "codemirror_mode": {
    "name": "ipython",
    "version": 2
   },
   "file_extension": ".py",
   "mimetype": "text/x-python",
   "name": "python",
   "nbconvert_exporter": "python",
   "pygments_lexer": "ipython2",
   "version": "2.7.12"
  }
 },
 "nbformat": 4,
 "nbformat_minor": 2
}
