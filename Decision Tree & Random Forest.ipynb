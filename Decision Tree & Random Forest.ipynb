{
 "cells": [
  {
   "cell_type": "markdown",
   "metadata": {},
   "source": [
    "## Decision Tree\n",
    "--- \n",
    "\n",
    "### Purity\n",
    "- **Target:** get pure subset\n",
    "- Can tell us not only prediction but also confidence on prediction \n",
    "\n",
    "### Algorithm\n",
    "\n",
    "- **Split(node,{examples}):**\n",
    "    1. A <- the best attribute for splitting the {examples}\n",
    "    2. Decision attribute for this node <- A\n",
    "    3. For each value of A, create new child node\n",
    "    4. Spliting training {examples} to child nodes\n",
    "    5. For each child node/subset:<br>\n",
    "        if subset is pure: STOP<br>\n",
    "        else:Split(child_node,{subset})\n",
    "- **Ross Quinlan(ID3:1986),(C4.5:1993)**\n",
    "- **Breimanetal(CaRT:1984) from statistics**"
   ]
  },
  {
   "cell_type": "markdown",
   "metadata": {},
   "source": [
    "<div class=\"alert alert-block alert-warning\">\n",
    "<b>Which attribute to split on?</b>\n",
    "</div>\n",
    "\n",
    "- Want to measure \"purity\" of the split\n",
    "    - more certain after about Yes/No after the split\n",
    "        - pure set(__<font color='red'>4 yes</font>__ / __<font color='blue'>0 no</font>__)=>completely certain(100%)\n",
    "        - inpure(__<font color='red'>3 yes</font> / <font color='red'>3 no</font>__)=>completely uncertain(50%)\n",
    "    - can't use __P(\"yes\"|set)__:\n",
    "        - must be symmetric: 4 yes / 0 no as pure as 0 yes / 4 no\n",
    "\n",
    "<div class=\"alert alert-block alert-info\">\n",
    "<b>Entropy</b>\n",
    "</div>\n",
    "\n",
    "> A way to measure uncertainty of the class in a subset of examples\n",
    "\n",
    "$$H(s) = -p_{(+)}log_2{p_{(+)}} - p_{(-)}log_2{p_{(-)}}$$\n",
    "- Interpretation: assume item X belongs to S\n",
    "    - how many bits need to tell if X positive or negtive\n",
    "- impure(3 yes / 3 no)\n",
    "    \n",
    "    $H(s) = - \\sub{3,5}$\n",
    "\n",
    "<div class=\"alert alert-block alert-danger\">\n",
    "<b>Information Gain</b>\n",
    "</div>\n",
    "\n",
    "> ID3\n",
    "\n",
    "- Want many iterms in pure sets\n",
    "- Expected drop in entropy after split (**<font color='red'>Expected Entropy,EH</font>**)\n",
    "$$Gain(S,A)=H(S) - \\sum_{V}$$\n",
    "- Mutual Information\n",
    "    - between attribute A and class labels of S\n",
    "\n",
    "<div class=\"alert alert-block alert-danger\">\n",
    "<b>Information gain ratio</b>\n",
    "</div>\n",
    "\n",
    "> ID4.5\n",
    "\n",
    "\n",
    "<div class=\"alert alert-block alert-danger\">\n",
    "<b>Gini Index</b>\n",
    "</div>\n",
    "\n",
    "> CART\n",
    "test\n"
   ]
  },
  {
   "cell_type": "markdown",
   "metadata": {},
   "source": [
    "### Guassian information gain to decide splits"
   ]
  },
  {
   "cell_type": "markdown",
   "metadata": {},
   "source": [
    "### Overfitting"
   ]
  },
  {
   "cell_type": "markdown",
   "metadata": {},
   "source": [
    "### Pros and Cons\n",
    "\n",
    "- Cons\n",
    "    - only axis-aligned splits of data\n",
    "    - greedy(may not find best tree"
   ]
  },
  {
   "cell_type": "markdown",
   "metadata": {},
   "source": [
    "### Summary"
   ]
  },
  {
   "cell_type": "code",
   "execution_count": null,
   "metadata": {},
   "outputs": [],
   "source": []
  }
 ],
 "metadata": {
  "kernelspec": {
   "display_name": "Python 3",
   "language": "python",
   "name": "python3"
  },
  "language_info": {
   "codemirror_mode": {
    "name": "ipython",
    "version": 3
   },
   "file_extension": ".py",
   "mimetype": "text/x-python",
   "name": "python",
   "nbconvert_exporter": "python",
   "pygments_lexer": "ipython3",
   "version": "3.7.1"
  }
 },
 "nbformat": 4,
 "nbformat_minor": 2
}
